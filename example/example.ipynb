{
 "cells": [
  {
   "cell_type": "markdown",
   "metadata": {},
   "source": [
    "# RedPanda Example Usage\n",
    "\n",
    "## 1. Create Database Model\n",
    "\n",
    "Create a model representing a table in the DB"
   ]
  },
  {
   "cell_type": "code",
   "execution_count": 1,
   "metadata": {
    "collapsed": false
   },
   "outputs": [
    {
     "name": "stdout",
     "output_type": "stream",
     "text": [
      "0.1.8\n"
     ]
    }
   ],
   "source": [
    "import redpanda\n",
    "\n",
    "print redpanda.__version__"
   ]
  },
  {
   "cell_type": "code",
   "execution_count": 2,
   "metadata": {
    "collapsed": false
   },
   "outputs": [],
   "source": [
    "import sqlalchemy\n",
    "import sqlalchemy.ext.declarative\n",
    "import redpanda.mixins\n",
    "\n",
    "# Declare the SQLAlchemy declarative base\n",
    "Base = sqlalchemy.ext.declarative.declarative_base()\n",
    "\n",
    "# Declare our model\n",
    "class Widget(redpanda.mixins.RedPandaMixin, Base):\n",
    "    __tablename__ = 'widgets'\n",
    "    id            = sqlalchemy.Column(sqlalchemy.Integer, primary_key=True)\n",
    "    timestamp     = sqlalchemy.Column(sqlalchemy.DateTime)\n",
    "    name          = sqlalchemy.Column(sqlalchemy.String)\n",
    "    kind          = sqlalchemy.Column(sqlalchemy.String)\n",
    "    units         = sqlalchemy.Column(sqlalchemy.Integer)\n",
    "\n",
    "    # Class-defined RedPanda read_sql() arguments\n",
    "    # This allows us to forego passing these into Widget.redpanda()\n",
    "    __read_sql__ = {\n",
    "        'index_col'   : ['timestamp'],\n",
    "        'parse_dates' : ['timestamp'] }\n",
    "\n",
    "    def __repr__(self):\n",
    "        return \"<Widget id: %s timestamp: '%s' name: '%s' kind: '%s' units: %d>\" % \\\n",
    "            (self.id, self.timestamp.strftime(\"%Y-%m-%d %H:%M:%S\"),\n",
    "                self.name, self.kind, self.units)"
   ]
  },
  {
   "cell_type": "markdown",
   "metadata": {},
   "source": [
    "## 2. Database Engine\n",
    "\n",
    "Create an in-memory SQLite engine"
   ]
  },
  {
   "cell_type": "code",
   "execution_count": 3,
   "metadata": {
    "collapsed": true
   },
   "outputs": [],
   "source": [
    "engine = sqlalchemy.create_engine('sqlite://')"
   ]
  },
  {
   "cell_type": "markdown",
   "metadata": {},
   "source": [
    "## 3. Populate the Database\n",
    "\n",
    "Fill the \"widgets\" table with some data"
   ]
  },
  {
   "cell_type": "code",
   "execution_count": 4,
   "metadata": {
    "collapsed": false
   },
   "outputs": [],
   "source": [
    "from datetime import datetime\n",
    "import random\n",
    "import random_words\n",
    "\n",
    "def randdate(maxday=31):\n",
    "    \"\"\" Generate a random datetime. \"\"\"\n",
    "    year = 2015\n",
    "    month = random.randint(0,12) + 1\n",
    "    day   = random.randint(0,maxday) + 1\n",
    "    hour  = random.randint(0,24)\n",
    "    minute = random.randint(0,60)\n",
    "    try:\n",
    "        return datetime(year, month, day, hour, minute)\n",
    "    except ValueError:\n",
    "        return randdate(maxday-1)\n",
    "\n",
    "def widgetgen():\n",
    "    \"\"\" Generate a set of widgets. \"\"\"\n",
    "    wordgen = random_words.RandomWords()\n",
    "    kinds   = 'fizzer', 'buzzer', 'bopper'\n",
    "    for i in range(0,25):\n",
    "        for kind in kinds:\n",
    "            name      = wordgen.random_word()\n",
    "            timestamp = randdate()\n",
    "            units     = random.randint(0,100)\n",
    "            yield Widget(timestamp=timestamp, name=name, kind=kind, units=units)\n",
    "\n",
    "# Set up our database\n",
    "Base.metadata.create_all(engine)\n",
    "sessionmaker = sqlalchemy.orm.sessionmaker(bind=engine)\n",
    "sessiongen   = sqlalchemy.orm.scoped_session(sessionmaker)\n",
    "session      = sessiongen()\n",
    "session.add_all(sorted(widgetgen(), key=lambda x: x.timestamp))\n",
    "session.commit()"
   ]
  },
  {
   "cell_type": "markdown",
   "metadata": {},
   "source": [
    "## 4. RedPanda Model-to-DataFrame\n",
    "\n",
    "Use the `Widget.redpanda()` method to create a framable query. Note because `Widget.__read_sql__` is initialized, the index will be set to `timestamp`."
   ]
  },
  {
   "cell_type": "code",
   "execution_count": 5,
   "metadata": {
    "collapsed": false
   },
   "outputs": [
    {
     "data": {
      "text/html": [
       "<div>\n",
       "<table border=\"1\" class=\"dataframe\">\n",
       "  <thead>\n",
       "    <tr style=\"text-align: right;\">\n",
       "      <th></th>\n",
       "      <th>id</th>\n",
       "      <th>name</th>\n",
       "      <th>kind</th>\n",
       "      <th>units</th>\n",
       "    </tr>\n",
       "    <tr>\n",
       "      <th>timestamp</th>\n",
       "      <th></th>\n",
       "      <th></th>\n",
       "      <th></th>\n",
       "      <th></th>\n",
       "    </tr>\n",
       "  </thead>\n",
       "  <tbody>\n",
       "    <tr>\n",
       "      <th>2015-01-02 10:15:00</th>\n",
       "      <td>1</td>\n",
       "      <td>deviations</td>\n",
       "      <td>fizzer</td>\n",
       "      <td>33</td>\n",
       "    </tr>\n",
       "    <tr>\n",
       "      <th>2015-01-12 06:23:00</th>\n",
       "      <td>2</td>\n",
       "      <td>safeguard</td>\n",
       "      <td>fizzer</td>\n",
       "      <td>34</td>\n",
       "    </tr>\n",
       "    <tr>\n",
       "      <th>2015-01-17 07:43:00</th>\n",
       "      <td>3</td>\n",
       "      <td>railroad</td>\n",
       "      <td>bopper</td>\n",
       "      <td>45</td>\n",
       "    </tr>\n",
       "    <tr>\n",
       "      <th>2015-01-22 08:02:00</th>\n",
       "      <td>4</td>\n",
       "      <td>schoolhouses</td>\n",
       "      <td>buzzer</td>\n",
       "      <td>98</td>\n",
       "    </tr>\n",
       "    <tr>\n",
       "      <th>2015-01-23 23:21:00</th>\n",
       "      <td>5</td>\n",
       "      <td>diagnosis</td>\n",
       "      <td>fizzer</td>\n",
       "      <td>26</td>\n",
       "    </tr>\n",
       "  </tbody>\n",
       "</table>\n",
       "</div>"
      ],
      "text/plain": [
       "                     id          name    kind  units\n",
       "timestamp                                           \n",
       "2015-01-02 10:15:00   1    deviations  fizzer     33\n",
       "2015-01-12 06:23:00   2     safeguard  fizzer     34\n",
       "2015-01-17 07:43:00   3      railroad  bopper     45\n",
       "2015-01-22 08:02:00   4  schoolhouses  buzzer     98\n",
       "2015-01-23 23:21:00   5     diagnosis  fizzer     26"
      ]
     },
     "execution_count": 5,
     "metadata": {},
     "output_type": "execute_result"
    }
   ],
   "source": [
    "Widget.redpanda().frame(engine).head()"
   ]
  },
  {
   "cell_type": "markdown",
   "metadata": {},
   "source": [
    "### Adding constraints\n",
    "\n",
    "Limit results to November 2015"
   ]
  },
  {
   "cell_type": "code",
   "execution_count": 6,
   "metadata": {
    "collapsed": false
   },
   "outputs": [
    {
     "data": {
      "text/html": [
       "<div>\n",
       "<table border=\"1\" class=\"dataframe\">\n",
       "  <thead>\n",
       "    <tr style=\"text-align: right;\">\n",
       "      <th></th>\n",
       "      <th>id</th>\n",
       "      <th>name</th>\n",
       "      <th>kind</th>\n",
       "      <th>units</th>\n",
       "    </tr>\n",
       "    <tr>\n",
       "      <th>timestamp</th>\n",
       "      <th></th>\n",
       "      <th></th>\n",
       "      <th></th>\n",
       "      <th></th>\n",
       "    </tr>\n",
       "  </thead>\n",
       "  <tbody>\n",
       "    <tr>\n",
       "      <th>2015-11-09 01:44:00</th>\n",
       "      <td>63</td>\n",
       "      <td>kilograms</td>\n",
       "      <td>buzzer</td>\n",
       "      <td>85</td>\n",
       "    </tr>\n",
       "    <tr>\n",
       "      <th>2015-11-09 23:50:00</th>\n",
       "      <td>64</td>\n",
       "      <td>bolts</td>\n",
       "      <td>fizzer</td>\n",
       "      <td>67</td>\n",
       "    </tr>\n",
       "    <tr>\n",
       "      <th>2015-11-20 04:27:00</th>\n",
       "      <td>65</td>\n",
       "      <td>ovens</td>\n",
       "      <td>bopper</td>\n",
       "      <td>39</td>\n",
       "    </tr>\n",
       "  </tbody>\n",
       "</table>\n",
       "</div>"
      ],
      "text/plain": [
       "                     id       name    kind  units\n",
       "timestamp                                        \n",
       "2015-11-09 01:44:00  63  kilograms  buzzer     85\n",
       "2015-11-09 23:50:00  64      bolts  fizzer     67\n",
       "2015-11-20 04:27:00  65      ovens  bopper     39"
      ]
     },
     "execution_count": 6,
     "metadata": {},
     "output_type": "execute_result"
    }
   ],
   "source": [
    "Widget.redpanda()\\\n",
    "    .filter(Widget.timestamp.between('2015-11-01', '2015-11-30 23:59:59'))\\\n",
    "    .frame(engine)"
   ]
  },
  {
   "cell_type": "markdown",
   "metadata": {},
   "source": [
    "### Aggregation\n",
    "\n",
    "Flatten table into the sum of units across timegroup vs. kind"
   ]
  },
  {
   "cell_type": "code",
   "execution_count": 7,
   "metadata": {
    "collapsed": false
   },
   "outputs": [
    {
     "data": {
      "text/html": [
       "<div>\n",
       "<table border=\"1\" class=\"dataframe\">\n",
       "  <thead>\n",
       "    <tr style=\"text-align: right;\">\n",
       "      <th>kind</th>\n",
       "      <th>bopper</th>\n",
       "      <th>buzzer</th>\n",
       "      <th>fizzer</th>\n",
       "    </tr>\n",
       "    <tr>\n",
       "      <th>timestamp</th>\n",
       "      <th></th>\n",
       "      <th></th>\n",
       "      <th></th>\n",
       "    </tr>\n",
       "  </thead>\n",
       "  <tbody>\n",
       "    <tr>\n",
       "      <th>2015-01-31</th>\n",
       "      <td>45</td>\n",
       "      <td>98</td>\n",
       "      <td>93</td>\n",
       "    </tr>\n",
       "    <tr>\n",
       "      <th>2015-02-28</th>\n",
       "      <td>71</td>\n",
       "      <td>180</td>\n",
       "      <td>385</td>\n",
       "    </tr>\n",
       "    <tr>\n",
       "      <th>2015-03-31</th>\n",
       "      <td>10</td>\n",
       "      <td>7</td>\n",
       "      <td>149</td>\n",
       "    </tr>\n",
       "    <tr>\n",
       "      <th>2015-04-30</th>\n",
       "      <td>89</td>\n",
       "      <td>77</td>\n",
       "      <td>150</td>\n",
       "    </tr>\n",
       "    <tr>\n",
       "      <th>2015-05-31</th>\n",
       "      <td>151</td>\n",
       "      <td>NaN</td>\n",
       "      <td>79</td>\n",
       "    </tr>\n",
       "    <tr>\n",
       "      <th>2015-06-30</th>\n",
       "      <td>71</td>\n",
       "      <td>150</td>\n",
       "      <td>62</td>\n",
       "    </tr>\n",
       "    <tr>\n",
       "      <th>2015-07-31</th>\n",
       "      <td>273</td>\n",
       "      <td>35</td>\n",
       "      <td>20</td>\n",
       "    </tr>\n",
       "    <tr>\n",
       "      <th>2015-08-31</th>\n",
       "      <td>NaN</td>\n",
       "      <td>148</td>\n",
       "      <td>2</td>\n",
       "    </tr>\n",
       "    <tr>\n",
       "      <th>2015-09-30</th>\n",
       "      <td>284</td>\n",
       "      <td>57</td>\n",
       "      <td>100</td>\n",
       "    </tr>\n",
       "    <tr>\n",
       "      <th>2015-10-31</th>\n",
       "      <td>85</td>\n",
       "      <td>223</td>\n",
       "      <td>152</td>\n",
       "    </tr>\n",
       "    <tr>\n",
       "      <th>2015-11-30</th>\n",
       "      <td>39</td>\n",
       "      <td>85</td>\n",
       "      <td>67</td>\n",
       "    </tr>\n",
       "    <tr>\n",
       "      <th>2015-12-31</th>\n",
       "      <td>70</td>\n",
       "      <td>326</td>\n",
       "      <td>67</td>\n",
       "    </tr>\n",
       "  </tbody>\n",
       "</table>\n",
       "</div>"
      ],
      "text/plain": [
       "kind        bopper  buzzer  fizzer\n",
       "timestamp                         \n",
       "2015-01-31      45      98      93\n",
       "2015-02-28      71     180     385\n",
       "2015-03-31      10       7     149\n",
       "2015-04-30      89      77     150\n",
       "2015-05-31     151     NaN      79\n",
       "2015-06-30      71     150      62\n",
       "2015-07-31     273      35      20\n",
       "2015-08-31     NaN     148       2\n",
       "2015-09-30     284      57     100\n",
       "2015-10-31      85     223     152\n",
       "2015-11-30      39      85      67\n",
       "2015-12-31      70     326      67"
      ]
     },
     "execution_count": 7,
     "metadata": {},
     "output_type": "execute_result"
    }
   ],
   "source": [
    "import pandas\n",
    "Widget.redpanda().frame(engine)\\\n",
    "    .groupby([pandas.TimeGrouper(\"M\"), \"kind\"]).units.sum().unstack()"
   ]
  },
  {
   "cell_type": "markdown",
   "metadata": {},
   "source": [
    "## 5. RedPanda DataFrame-to-Model\n",
    "\n",
    "Use `Widget.redparse()` to parse a DataFrame into ORM objects"
   ]
  },
  {
   "cell_type": "code",
   "execution_count": 8,
   "metadata": {
    "collapsed": false
   },
   "outputs": [
    {
     "name": "stdout",
     "output_type": "stream",
     "text": [
      "<Widget id: 1 timestamp: '2015-01-02 10:15:00' name: 'deviations' kind: 'fizzer' units: 33>\n"
     ]
    }
   ],
   "source": [
    "frame = Widget.redpanda().frame(engine)\n",
    "modelgen = Widget.redparse(frame, parse_index=True)\n",
    "print modelgen.next()"
   ]
  },
  {
   "cell_type": "code",
   "execution_count": null,
   "metadata": {
    "collapsed": true
   },
   "outputs": [],
   "source": []
  }
 ],
 "metadata": {
  "kernelspec": {
   "display_name": "Python 2",
   "language": "python",
   "name": "python2"
  },
  "language_info": {
   "codemirror_mode": {
    "name": "ipython",
    "version": 2
   },
   "file_extension": ".py",
   "mimetype": "text/x-python",
   "name": "python",
   "nbconvert_exporter": "python",
   "pygments_lexer": "ipython2",
   "version": "2.7.11"
  }
 },
 "nbformat": 4,
 "nbformat_minor": 0
}
