{
 "cells": [
  {
   "cell_type": "markdown",
   "metadata": {},
   "source": [
    "# RedPanda Example Usage"
   ]
  },
  {
   "cell_type": "markdown",
   "metadata": {},
   "source": [
    "## 1. Create Database Model"
   ]
  },
  {
   "cell_type": "markdown",
   "metadata": {},
   "source": [
    "Create a model representing a table in the DB"
   ]
  },
  {
   "cell_type": "code",
   "execution_count": 1,
   "metadata": {
    "collapsed": false
   },
   "outputs": [],
   "source": [
    "import sqlalchemy\n",
    "import sqlalchemy.ext.declarative\n",
    "import redpanda.mixins\n",
    "\n",
    "# Declare the SQLAlchemy declarative base\n",
    "Base = sqlalchemy.ext.declarative.declarative_base()\n",
    "\n",
    "# Declare our model\n",
    "class Widget(redpanda.mixins.RedPandaMixin, Base):\n",
    "    __tablename__ = 'widgets'\n",
    "    id            = sqlalchemy.Column(sqlalchemy.Integer, primary_key=True)\n",
    "    timestamp     = sqlalchemy.Column(sqlalchemy.DateTime)\n",
    "    name          = sqlalchemy.Column(sqlalchemy.String)\n",
    "    kind          = sqlalchemy.Column(sqlalchemy.String)\n",
    "    units         = sqlalchemy.Column(sqlalchemy.Integer)\n",
    "\n",
    "    # Class-defined RedPanda read_sql() arguments\n",
    "    # This allows us to forego passing these into Widget.redpanda()\n",
    "    __read_sql__ = {\n",
    "        'index_col'   : ['timestamp'],\n",
    "        'parse_dates' : ['timestamp'] }\n",
    "\n",
    "    def __repr__(self):\n",
    "        return \"<Widget id: %s timestamp: '%s' name: '%s' kind: '%s' units: %d>\" % \\\n",
    "            (self.id, self.timestamp.strftime(\"%Y-%m-%d %H:%M:%S\"),\n",
    "                self.name, self.kind, self.units)"
   ]
  },
  {
   "cell_type": "markdown",
   "metadata": {},
   "source": [
    "## 2. Database Engine"
   ]
  },
  {
   "cell_type": "markdown",
   "metadata": {},
   "source": [
    "Create an in-memory SQLite engine"
   ]
  },
  {
   "cell_type": "code",
   "execution_count": 2,
   "metadata": {
    "collapsed": true
   },
   "outputs": [],
   "source": [
    "engine = sqlalchemy.create_engine('sqlite://')"
   ]
  },
  {
   "cell_type": "markdown",
   "metadata": {},
   "source": [
    "## 3. Populate the Database"
   ]
  },
  {
   "cell_type": "markdown",
   "metadata": {},
   "source": [
    "Fill the \"widgets\" table with some data"
   ]
  },
  {
   "cell_type": "code",
   "execution_count": 3,
   "metadata": {
    "collapsed": false
   },
   "outputs": [],
   "source": [
    "from datetime import datetime\n",
    "import random\n",
    "import random_words\n",
    "\n",
    "def randdate(maxday=31):\n",
    "    \"\"\" Generate a random datetime. \"\"\"\n",
    "    year = 2015\n",
    "    month = random.randint(0,12) + 1\n",
    "    day   = random.randint(0,maxday) + 1\n",
    "    hour  = random.randint(0,24)\n",
    "    minute = random.randint(0,60)\n",
    "    try:\n",
    "        return datetime(year, month, day, hour, minute)\n",
    "    except ValueError:\n",
    "        return randdate(maxday-1)\n",
    "\n",
    "def widgetgen():\n",
    "    \"\"\" Generate a set of widgets. \"\"\"\n",
    "    wordgen = random_words.RandomWords()\n",
    "    kinds   = 'fizzer', 'buzzer', 'bopper'\n",
    "    for i in range(0,25):\n",
    "        for kind in kinds:\n",
    "            name      = wordgen.random_word()\n",
    "            timestamp = randdate()\n",
    "            units     = random.randint(0,100)\n",
    "            yield Widget(timestamp=timestamp, name=name, kind=kind, units=units)\n",
    "\n",
    "# Set up our database\n",
    "Base.metadata.create_all(engine)\n",
    "sessionmaker = sqlalchemy.orm.sessionmaker(bind=engine)\n",
    "sessiongen   = sqlalchemy.orm.scoped_session(sessionmaker)\n",
    "session      = sessiongen()\n",
    "session.add_all(sorted(widgetgen(), key=lambda x: x.timestamp))\n",
    "session.commit()"
   ]
  },
  {
   "cell_type": "markdown",
   "metadata": {},
   "source": [
    "## 4. RedPanda Model-to-DataFrame"
   ]
  },
  {
   "cell_type": "markdown",
   "metadata": {},
   "source": [
    "Use the `Widget.redpanda()` method to create a framable query. Note because `Widget.__read_sql__` is initialized, the index will be set to `timestamp`."
   ]
  },
  {
   "cell_type": "code",
   "execution_count": 4,
   "metadata": {
    "collapsed": false
   },
   "outputs": [
    {
     "data": {
      "text/html": [
       "<div>\n",
       "<table border=\"1\" class=\"dataframe\">\n",
       "  <thead>\n",
       "    <tr style=\"text-align: right;\">\n",
       "      <th></th>\n",
       "      <th>id</th>\n",
       "      <th>name</th>\n",
       "      <th>kind</th>\n",
       "      <th>units</th>\n",
       "    </tr>\n",
       "    <tr>\n",
       "      <th>timestamp</th>\n",
       "      <th></th>\n",
       "      <th></th>\n",
       "      <th></th>\n",
       "      <th></th>\n",
       "    </tr>\n",
       "  </thead>\n",
       "  <tbody>\n",
       "    <tr>\n",
       "      <th>2015-01-01 07:00:00</th>\n",
       "      <td>1</td>\n",
       "      <td>analog</td>\n",
       "      <td>bopper</td>\n",
       "      <td>7</td>\n",
       "    </tr>\n",
       "    <tr>\n",
       "      <th>2015-01-02 21:06:00</th>\n",
       "      <td>2</td>\n",
       "      <td>seamen</td>\n",
       "      <td>bopper</td>\n",
       "      <td>67</td>\n",
       "    </tr>\n",
       "    <tr>\n",
       "      <th>2015-01-10 10:02:00</th>\n",
       "      <td>3</td>\n",
       "      <td>tendency</td>\n",
       "      <td>buzzer</td>\n",
       "      <td>11</td>\n",
       "    </tr>\n",
       "    <tr>\n",
       "      <th>2015-01-13 07:18:00</th>\n",
       "      <td>4</td>\n",
       "      <td>apparatus</td>\n",
       "      <td>bopper</td>\n",
       "      <td>2</td>\n",
       "    </tr>\n",
       "    <tr>\n",
       "      <th>2015-01-14 06:43:00</th>\n",
       "      <td>5</td>\n",
       "      <td>ornament</td>\n",
       "      <td>bopper</td>\n",
       "      <td>93</td>\n",
       "    </tr>\n",
       "  </tbody>\n",
       "</table>\n",
       "</div>"
      ],
      "text/plain": [
       "                     id       name    kind  units\n",
       "timestamp                                        \n",
       "2015-01-01 07:00:00   1     analog  bopper      7\n",
       "2015-01-02 21:06:00   2     seamen  bopper     67\n",
       "2015-01-10 10:02:00   3   tendency  buzzer     11\n",
       "2015-01-13 07:18:00   4  apparatus  bopper      2\n",
       "2015-01-14 06:43:00   5   ornament  bopper     93"
      ]
     },
     "execution_count": 4,
     "metadata": {},
     "output_type": "execute_result"
    }
   ],
   "source": [
    "Widget.redpanda().frame(engine).head()"
   ]
  },
  {
   "cell_type": "markdown",
   "metadata": {},
   "source": [
    "### Adding constraints"
   ]
  },
  {
   "cell_type": "markdown",
   "metadata": {},
   "source": [
    "Limit results to November 2015"
   ]
  },
  {
   "cell_type": "code",
   "execution_count": 5,
   "metadata": {
    "collapsed": false
   },
   "outputs": [
    {
     "data": {
      "text/html": [
       "<div>\n",
       "<table border=\"1\" class=\"dataframe\">\n",
       "  <thead>\n",
       "    <tr style=\"text-align: right;\">\n",
       "      <th></th>\n",
       "      <th>id</th>\n",
       "      <th>name</th>\n",
       "      <th>kind</th>\n",
       "      <th>units</th>\n",
       "    </tr>\n",
       "    <tr>\n",
       "      <th>timestamp</th>\n",
       "      <th></th>\n",
       "      <th></th>\n",
       "      <th></th>\n",
       "      <th></th>\n",
       "    </tr>\n",
       "  </thead>\n",
       "  <tbody>\n",
       "    <tr>\n",
       "      <th>2015-11-03 17:48:00</th>\n",
       "      <td>64</td>\n",
       "      <td>fifteen</td>\n",
       "      <td>buzzer</td>\n",
       "      <td>47</td>\n",
       "    </tr>\n",
       "    <tr>\n",
       "      <th>2015-11-05 21:31:00</th>\n",
       "      <td>65</td>\n",
       "      <td>bytes</td>\n",
       "      <td>fizzer</td>\n",
       "      <td>95</td>\n",
       "    </tr>\n",
       "    <tr>\n",
       "      <th>2015-11-08 19:10:00</th>\n",
       "      <td>66</td>\n",
       "      <td>profession</td>\n",
       "      <td>buzzer</td>\n",
       "      <td>79</td>\n",
       "    </tr>\n",
       "    <tr>\n",
       "      <th>2015-11-26 12:59:00</th>\n",
       "      <td>67</td>\n",
       "      <td>habit</td>\n",
       "      <td>buzzer</td>\n",
       "      <td>58</td>\n",
       "    </tr>\n",
       "    <tr>\n",
       "      <th>2015-11-27 16:49:00</th>\n",
       "      <td>68</td>\n",
       "      <td>concentrations</td>\n",
       "      <td>fizzer</td>\n",
       "      <td>52</td>\n",
       "    </tr>\n",
       "    <tr>\n",
       "      <th>2015-11-29 12:00:00</th>\n",
       "      <td>69</td>\n",
       "      <td>lifeboat</td>\n",
       "      <td>fizzer</td>\n",
       "      <td>47</td>\n",
       "    </tr>\n",
       "    <tr>\n",
       "      <th>2015-11-30 10:18:00</th>\n",
       "      <td>70</td>\n",
       "      <td>porters</td>\n",
       "      <td>buzzer</td>\n",
       "      <td>10</td>\n",
       "    </tr>\n",
       "  </tbody>\n",
       "</table>\n",
       "</div>"
      ],
      "text/plain": [
       "                     id            name    kind  units\n",
       "timestamp                                             \n",
       "2015-11-03 17:48:00  64         fifteen  buzzer     47\n",
       "2015-11-05 21:31:00  65           bytes  fizzer     95\n",
       "2015-11-08 19:10:00  66      profession  buzzer     79\n",
       "2015-11-26 12:59:00  67           habit  buzzer     58\n",
       "2015-11-27 16:49:00  68  concentrations  fizzer     52\n",
       "2015-11-29 12:00:00  69        lifeboat  fizzer     47\n",
       "2015-11-30 10:18:00  70         porters  buzzer     10"
      ]
     },
     "execution_count": 5,
     "metadata": {},
     "output_type": "execute_result"
    }
   ],
   "source": [
    "Widget.redpanda()\\\n",
    "    .filter(Widget.timestamp.between('2015-11-01', '2015-11-30 23:59:59'))\\\n",
    "    .frame(engine)"
   ]
  },
  {
   "cell_type": "markdown",
   "metadata": {},
   "source": [
    "### Aggregation"
   ]
  },
  {
   "cell_type": "markdown",
   "metadata": {},
   "source": [
    "Flatten table into the sum of units across timegroup vs. kind"
   ]
  },
  {
   "cell_type": "code",
   "execution_count": 6,
   "metadata": {
    "collapsed": false
   },
   "outputs": [
    {
     "data": {
      "text/html": [
       "<div>\n",
       "<table border=\"1\" class=\"dataframe\">\n",
       "  <thead>\n",
       "    <tr style=\"text-align: right;\">\n",
       "      <th>kind</th>\n",
       "      <th>bopper</th>\n",
       "      <th>buzzer</th>\n",
       "      <th>fizzer</th>\n",
       "    </tr>\n",
       "    <tr>\n",
       "      <th>timestamp</th>\n",
       "      <th></th>\n",
       "      <th></th>\n",
       "      <th></th>\n",
       "    </tr>\n",
       "  </thead>\n",
       "  <tbody>\n",
       "    <tr>\n",
       "      <th>2015-01-31</th>\n",
       "      <td>169</td>\n",
       "      <td>200</td>\n",
       "      <td>77</td>\n",
       "    </tr>\n",
       "    <tr>\n",
       "      <th>2015-02-28</th>\n",
       "      <td>9</td>\n",
       "      <td>NaN</td>\n",
       "      <td>NaN</td>\n",
       "    </tr>\n",
       "    <tr>\n",
       "      <th>2015-03-31</th>\n",
       "      <td>250</td>\n",
       "      <td>3</td>\n",
       "      <td>157</td>\n",
       "    </tr>\n",
       "    <tr>\n",
       "      <th>2015-04-30</th>\n",
       "      <td>NaN</td>\n",
       "      <td>89</td>\n",
       "      <td>20</td>\n",
       "    </tr>\n",
       "    <tr>\n",
       "      <th>2015-05-31</th>\n",
       "      <td>23</td>\n",
       "      <td>152</td>\n",
       "      <td>30</td>\n",
       "    </tr>\n",
       "    <tr>\n",
       "      <th>2015-06-30</th>\n",
       "      <td>NaN</td>\n",
       "      <td>197</td>\n",
       "      <td>68</td>\n",
       "    </tr>\n",
       "    <tr>\n",
       "      <th>2015-07-31</th>\n",
       "      <td>33</td>\n",
       "      <td>135</td>\n",
       "      <td>357</td>\n",
       "    </tr>\n",
       "    <tr>\n",
       "      <th>2015-08-31</th>\n",
       "      <td>109</td>\n",
       "      <td>130</td>\n",
       "      <td>113</td>\n",
       "    </tr>\n",
       "    <tr>\n",
       "      <th>2015-09-30</th>\n",
       "      <td>146</td>\n",
       "      <td>145</td>\n",
       "      <td>288</td>\n",
       "    </tr>\n",
       "    <tr>\n",
       "      <th>2015-10-31</th>\n",
       "      <td>62</td>\n",
       "      <td>147</td>\n",
       "      <td>56</td>\n",
       "    </tr>\n",
       "    <tr>\n",
       "      <th>2015-11-30</th>\n",
       "      <td>NaN</td>\n",
       "      <td>194</td>\n",
       "      <td>194</td>\n",
       "    </tr>\n",
       "    <tr>\n",
       "      <th>2015-12-31</th>\n",
       "      <td>220</td>\n",
       "      <td>NaN</td>\n",
       "      <td>96</td>\n",
       "    </tr>\n",
       "  </tbody>\n",
       "</table>\n",
       "</div>"
      ],
      "text/plain": [
       "kind        bopper  buzzer  fizzer\n",
       "timestamp                         \n",
       "2015-01-31     169     200      77\n",
       "2015-02-28       9     NaN     NaN\n",
       "2015-03-31     250       3     157\n",
       "2015-04-30     NaN      89      20\n",
       "2015-05-31      23     152      30\n",
       "2015-06-30     NaN     197      68\n",
       "2015-07-31      33     135     357\n",
       "2015-08-31     109     130     113\n",
       "2015-09-30     146     145     288\n",
       "2015-10-31      62     147      56\n",
       "2015-11-30     NaN     194     194\n",
       "2015-12-31     220     NaN      96"
      ]
     },
     "execution_count": 6,
     "metadata": {},
     "output_type": "execute_result"
    }
   ],
   "source": [
    "import pandas\n",
    "Widget.redpanda().frame(engine)\\\n",
    "    .groupby([pandas.TimeGrouper(\"M\"), \"kind\"]).units.sum().unstack()"
   ]
  },
  {
   "cell_type": "markdown",
   "metadata": {},
   "source": [
    "## RedPanda DataFrame-to-Model"
   ]
  },
  {
   "cell_type": "markdown",
   "metadata": {},
   "source": [
    "Use `Widget.redparse()` to parse a DataFrame into ORM objects"
   ]
  },
  {
   "cell_type": "code",
   "execution_count": 7,
   "metadata": {
    "collapsed": false
   },
   "outputs": [
    {
     "name": "stdout",
     "output_type": "stream",
     "text": [
      "<Widget id: 1 timestamp: '2015-01-01 07:00:00' name: 'analog' kind: 'bopper' units: 7>\n"
     ]
    }
   ],
   "source": [
    "frame = Widget.redpanda().frame(engine)\n",
    "modelgen = Widget.redparse(frame, parse_index=True)\n",
    "print modelgen.next()"
   ]
  }
 ],
 "metadata": {
  "kernelspec": {
   "display_name": "Python 2",
   "language": "python",
   "name": "python2"
  },
  "language_info": {
   "codemirror_mode": {
    "name": "ipython",
    "version": 2
   },
   "file_extension": ".py",
   "mimetype": "text/x-python",
   "name": "python",
   "nbconvert_exporter": "python",
   "pygments_lexer": "ipython2",
   "version": "2.7.11"
  }
 },
 "nbformat": 4,
 "nbformat_minor": 0
}
