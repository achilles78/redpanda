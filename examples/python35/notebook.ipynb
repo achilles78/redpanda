{
 "cells": [
  {
   "cell_type": "markdown",
   "metadata": {},
   "source": [
    "# RedPanda Examples"
   ]
  },
  {
   "cell_type": "code",
   "execution_count": 1,
   "metadata": {
    "collapsed": false
   },
   "outputs": [
    {
     "name": "stdout",
     "output_type": "stream",
     "text": [
      "RedPanda version: 0.3.0\n",
      "Python version: 3.5.1 (default, May 30 2016, 16:01:04) \n",
      "[GCC 5.3.0]\n"
     ]
    }
   ],
   "source": [
    "import pandas, redpanda, sqlalchemy, sys\n",
    "print(\"RedPanda version:\", redpanda.__version__)\n",
    "print(\"Python version:\", sys.version)"
   ]
  },
  {
   "cell_type": "markdown",
   "metadata": {},
   "source": [
    "## Opening a session\n",
    "\n",
    "Open a `RedPanda` session to begin exploring data:"
   ]
  },
  {
   "cell_type": "code",
   "execution_count": 2,
   "metadata": {
    "collapsed": false
   },
   "outputs": [],
   "source": [
    "engine = redpanda.create_engine(\"sqlite://\")\n",
    "Session = redpanda.orm.sessionmaker(bind=engine)\n",
    "session = Session()"
   ]
  },
  {
   "cell_type": "markdown",
   "metadata": {},
   "source": [
    "Note that this is syntactic sugar for SQLAlchemy calls:"
   ]
  },
  {
   "cell_type": "code",
   "execution_count": 3,
   "metadata": {
    "collapsed": false
   },
   "outputs": [],
   "source": [
    "engine = sqlalchemy.create_engine(\"sqlite://\")\n",
    "sessionmaker = sqlalchemy.orm.sessionmaker(class_=redpanda.orm.Session,\n",
    "                                           query_cls=redpanda.orm.Query)\n",
    "session = sessionmaker(bind=engine)"
   ]
  },
  {
   "cell_type": "markdown",
   "metadata": {},
   "source": [
    "## Creating An Example Model\n",
    "\n",
    "Define your models using the declarative API. `RedPanda` defines one such model in the `example` module:"
   ]
  },
  {
   "cell_type": "code",
   "execution_count": 4,
   "metadata": {
    "collapsed": false
   },
   "outputs": [],
   "source": [
    "import sqlalchemy.ext.declarative\n",
    "Base = sqlalchemy.ext.declarative.declarative_base()\n",
    "class Widget(Base):\n",
    "    id        = sqlalchemy.Column(sqlalchemy.Integer, primary_key=True)\n",
    "    timestamp = sqlalchemy.Column(sqlalchemy.DateTime)\n",
    "    name      = sqlalchemy.Column(sqlalchemy.String)\n",
    "    kind      = sqlalchemy.Column(sqlalchemy.String)\n",
    "    units     = sqlalchemy.Column(sqlalchemy.Integer)\n",
    "\n",
    "    __read_sql__  = {\"index_col\": [\"timestamp\"], \"parse_dates\": [\"timestamp\"]}\n",
    "    __tablename__ = \"widgets\""
   ]
  },
  {
   "cell_type": "markdown",
   "metadata": {},
   "source": [
    "Defining the class attribute `__read_sql__` will configure default arguments passed to `pandas.read_sql()`. \n",
    "\n",
    "In this case we are configuring the `widgets` table to use the `timestamp` column as an index and that we wish for `pandas` to parse this column as a `datetime` object."
   ]
  },
  {
   "cell_type": "code",
   "execution_count": 5,
   "metadata": {
    "collapsed": false
   },
   "outputs": [],
   "source": [
    "from redpanda.example import create_widgets\n",
    "create_widgets(session)"
   ]
  },
  {
   "cell_type": "markdown",
   "metadata": {},
   "source": [
    "## Querying Data\n",
    "\n",
    "Use the `frame()` method of a query to return the results as a `DataFrame`:"
   ]
  },
  {
   "cell_type": "code",
   "execution_count": 6,
   "metadata": {
    "collapsed": false
   },
   "outputs": [
    {
     "data": {
      "text/html": [
       "<div>\n",
       "<table border=\"1\" class=\"dataframe\">\n",
       "  <thead>\n",
       "    <tr style=\"text-align: right;\">\n",
       "      <th></th>\n",
       "      <th>id</th>\n",
       "      <th>name</th>\n",
       "      <th>kind</th>\n",
       "      <th>units</th>\n",
       "    </tr>\n",
       "    <tr>\n",
       "      <th>timestamp</th>\n",
       "      <th></th>\n",
       "      <th></th>\n",
       "      <th></th>\n",
       "      <th></th>\n",
       "    </tr>\n",
       "  </thead>\n",
       "  <tbody>\n",
       "    <tr>\n",
       "      <th>2016-01-05 13:34:00</th>\n",
       "      <td>1</td>\n",
       "      <td>thermometer</td>\n",
       "      <td>fizzer</td>\n",
       "      <td>83</td>\n",
       "    </tr>\n",
       "    <tr>\n",
       "      <th>2016-01-09 22:29:00</th>\n",
       "      <td>2</td>\n",
       "      <td>diaries</td>\n",
       "      <td>bopper</td>\n",
       "      <td>93</td>\n",
       "    </tr>\n",
       "    <tr>\n",
       "      <th>2016-01-19 10:31:00</th>\n",
       "      <td>3</td>\n",
       "      <td>sounds</td>\n",
       "      <td>buzzer</td>\n",
       "      <td>95</td>\n",
       "    </tr>\n",
       "    <tr>\n",
       "      <th>2016-01-27 14:25:00</th>\n",
       "      <td>4</td>\n",
       "      <td>submarines</td>\n",
       "      <td>buzzer</td>\n",
       "      <td>5</td>\n",
       "    </tr>\n",
       "    <tr>\n",
       "      <th>2016-02-05 06:17:00</th>\n",
       "      <td>5</td>\n",
       "      <td>capital</td>\n",
       "      <td>bopper</td>\n",
       "      <td>30</td>\n",
       "    </tr>\n",
       "  </tbody>\n",
       "</table>\n",
       "</div>"
      ],
      "text/plain": [
       "                     id         name    kind  units\n",
       "timestamp                                          \n",
       "2016-01-05 13:34:00   1  thermometer  fizzer     83\n",
       "2016-01-09 22:29:00   2      diaries  bopper     93\n",
       "2016-01-19 10:31:00   3       sounds  buzzer     95\n",
       "2016-01-27 14:25:00   4   submarines  buzzer      5\n",
       "2016-02-05 06:17:00   5      capital  bopper     30"
      ]
     },
     "execution_count": 6,
     "metadata": {},
     "output_type": "execute_result"
    }
   ],
   "source": [
    "session.query(Widget).frame().head()"
   ]
  },
  {
   "cell_type": "markdown",
   "metadata": {},
   "source": [
    "### Querying with Filters\n",
    "\n",
    "Use SQLAlchemy filters to refine the query:"
   ]
  },
  {
   "cell_type": "code",
   "execution_count": 7,
   "metadata": {
    "collapsed": false
   },
   "outputs": [
    {
     "data": {
      "text/html": [
       "<div>\n",
       "<table border=\"1\" class=\"dataframe\">\n",
       "  <thead>\n",
       "    <tr style=\"text-align: right;\">\n",
       "      <th></th>\n",
       "      <th>id</th>\n",
       "      <th>name</th>\n",
       "      <th>kind</th>\n",
       "      <th>units</th>\n",
       "    </tr>\n",
       "    <tr>\n",
       "      <th>timestamp</th>\n",
       "      <th></th>\n",
       "      <th></th>\n",
       "      <th></th>\n",
       "      <th></th>\n",
       "    </tr>\n",
       "  </thead>\n",
       "  <tbody>\n",
       "    <tr>\n",
       "      <th>2016-11-02 16:47:00</th>\n",
       "      <td>63</td>\n",
       "      <td>nods</td>\n",
       "      <td>buzzer</td>\n",
       "      <td>89</td>\n",
       "    </tr>\n",
       "    <tr>\n",
       "      <th>2016-11-10 05:59:00</th>\n",
       "      <td>64</td>\n",
       "      <td>fire</td>\n",
       "      <td>fizzer</td>\n",
       "      <td>37</td>\n",
       "    </tr>\n",
       "    <tr>\n",
       "      <th>2016-11-18 07:49:00</th>\n",
       "      <td>65</td>\n",
       "      <td>interchanges</td>\n",
       "      <td>bopper</td>\n",
       "      <td>50</td>\n",
       "    </tr>\n",
       "    <tr>\n",
       "      <th>2016-11-18 20:15:00</th>\n",
       "      <td>66</td>\n",
       "      <td>mistrial</td>\n",
       "      <td>fizzer</td>\n",
       "      <td>24</td>\n",
       "    </tr>\n",
       "    <tr>\n",
       "      <th>2016-11-18 22:27:00</th>\n",
       "      <td>67</td>\n",
       "      <td>person</td>\n",
       "      <td>bopper</td>\n",
       "      <td>0</td>\n",
       "    </tr>\n",
       "    <tr>\n",
       "      <th>2016-11-28 19:59:00</th>\n",
       "      <td>68</td>\n",
       "      <td>acceptance</td>\n",
       "      <td>fizzer</td>\n",
       "      <td>41</td>\n",
       "    </tr>\n",
       "  </tbody>\n",
       "</table>\n",
       "</div>"
      ],
      "text/plain": [
       "                     id          name    kind  units\n",
       "timestamp                                           \n",
       "2016-11-02 16:47:00  63          nods  buzzer     89\n",
       "2016-11-10 05:59:00  64          fire  fizzer     37\n",
       "2016-11-18 07:49:00  65  interchanges  bopper     50\n",
       "2016-11-18 20:15:00  66      mistrial  fizzer     24\n",
       "2016-11-18 22:27:00  67        person  bopper      0\n",
       "2016-11-28 19:59:00  68    acceptance  fizzer     41"
      ]
     },
     "execution_count": 7,
     "metadata": {},
     "output_type": "execute_result"
    }
   ],
   "source": [
    "session.query(Widget).filter(Widget.timestamp.between(\"2016-11-01\", \"2016-11-30\")).frame()"
   ]
  },
  {
   "cell_type": "markdown",
   "metadata": {},
   "source": [
    "Alternatively, use the `within()` method to query an instrumented attribute with a pandas index:"
   ]
  },
  {
   "cell_type": "code",
   "execution_count": 8,
   "metadata": {
    "collapsed": false
   },
   "outputs": [
    {
     "data": {
      "text/html": [
       "<div>\n",
       "<table border=\"1\" class=\"dataframe\">\n",
       "  <thead>\n",
       "    <tr style=\"text-align: right;\">\n",
       "      <th></th>\n",
       "      <th>id</th>\n",
       "      <th>name</th>\n",
       "      <th>kind</th>\n",
       "      <th>units</th>\n",
       "    </tr>\n",
       "    <tr>\n",
       "      <th>timestamp</th>\n",
       "      <th></th>\n",
       "      <th></th>\n",
       "      <th></th>\n",
       "      <th></th>\n",
       "    </tr>\n",
       "  </thead>\n",
       "  <tbody>\n",
       "    <tr>\n",
       "      <th>2016-11-02 16:47:00</th>\n",
       "      <td>63</td>\n",
       "      <td>nods</td>\n",
       "      <td>buzzer</td>\n",
       "      <td>89</td>\n",
       "    </tr>\n",
       "    <tr>\n",
       "      <th>2016-11-10 05:59:00</th>\n",
       "      <td>64</td>\n",
       "      <td>fire</td>\n",
       "      <td>fizzer</td>\n",
       "      <td>37</td>\n",
       "    </tr>\n",
       "    <tr>\n",
       "      <th>2016-11-18 07:49:00</th>\n",
       "      <td>65</td>\n",
       "      <td>interchanges</td>\n",
       "      <td>bopper</td>\n",
       "      <td>50</td>\n",
       "    </tr>\n",
       "    <tr>\n",
       "      <th>2016-11-18 20:15:00</th>\n",
       "      <td>66</td>\n",
       "      <td>mistrial</td>\n",
       "      <td>fizzer</td>\n",
       "      <td>24</td>\n",
       "    </tr>\n",
       "    <tr>\n",
       "      <th>2016-11-18 22:27:00</th>\n",
       "      <td>67</td>\n",
       "      <td>person</td>\n",
       "      <td>bopper</td>\n",
       "      <td>0</td>\n",
       "    </tr>\n",
       "    <tr>\n",
       "      <th>2016-11-28 19:59:00</th>\n",
       "      <td>68</td>\n",
       "      <td>acceptance</td>\n",
       "      <td>fizzer</td>\n",
       "      <td>41</td>\n",
       "    </tr>\n",
       "    <tr>\n",
       "      <th>2016-12-01 23:51:00</th>\n",
       "      <td>69</td>\n",
       "      <td>tissues</td>\n",
       "      <td>buzzer</td>\n",
       "      <td>98</td>\n",
       "    </tr>\n",
       "  </tbody>\n",
       "</table>\n",
       "</div>"
      ],
      "text/plain": [
       "                     id          name    kind  units\n",
       "timestamp                                           \n",
       "2016-11-02 16:47:00  63          nods  buzzer     89\n",
       "2016-11-10 05:59:00  64          fire  fizzer     37\n",
       "2016-11-18 07:49:00  65  interchanges  bopper     50\n",
       "2016-11-18 20:15:00  66      mistrial  fizzer     24\n",
       "2016-11-18 22:27:00  67        person  bopper      0\n",
       "2016-11-28 19:59:00  68    acceptance  fizzer     41\n",
       "2016-12-01 23:51:00  69       tissues  buzzer     98"
      ]
     },
     "execution_count": 8,
     "metadata": {},
     "output_type": "execute_result"
    }
   ],
   "source": [
    "index = pandas.period_range(\"2016-11-01\", \"2016-11-30\", freq=\"W\")\n",
    "session.query(Widget).filter(Widget.timestamp.within(index)).frame()"
   ]
  },
  {
   "cell_type": "markdown",
   "metadata": {},
   "source": [
    "### Overriding Defaults\n",
    "\n",
    "Pass arguments to `pandas.read_sql()` into the `frame()` method:"
   ]
  },
  {
   "cell_type": "code",
   "execution_count": 9,
   "metadata": {
    "collapsed": false
   },
   "outputs": [
    {
     "data": {
      "text/html": [
       "<div>\n",
       "<table border=\"1\" class=\"dataframe\">\n",
       "  <thead>\n",
       "    <tr style=\"text-align: right;\">\n",
       "      <th></th>\n",
       "      <th>timestamp</th>\n",
       "      <th>name</th>\n",
       "      <th>kind</th>\n",
       "      <th>units</th>\n",
       "    </tr>\n",
       "    <tr>\n",
       "      <th>id</th>\n",
       "      <th></th>\n",
       "      <th></th>\n",
       "      <th></th>\n",
       "      <th></th>\n",
       "    </tr>\n",
       "  </thead>\n",
       "  <tbody>\n",
       "    <tr>\n",
       "      <th>1</th>\n",
       "      <td>2016-01-05 13:34:00</td>\n",
       "      <td>thermometer</td>\n",
       "      <td>fizzer</td>\n",
       "      <td>83</td>\n",
       "    </tr>\n",
       "    <tr>\n",
       "      <th>2</th>\n",
       "      <td>2016-01-09 22:29:00</td>\n",
       "      <td>diaries</td>\n",
       "      <td>bopper</td>\n",
       "      <td>93</td>\n",
       "    </tr>\n",
       "    <tr>\n",
       "      <th>3</th>\n",
       "      <td>2016-01-19 10:31:00</td>\n",
       "      <td>sounds</td>\n",
       "      <td>buzzer</td>\n",
       "      <td>95</td>\n",
       "    </tr>\n",
       "    <tr>\n",
       "      <th>4</th>\n",
       "      <td>2016-01-27 14:25:00</td>\n",
       "      <td>submarines</td>\n",
       "      <td>buzzer</td>\n",
       "      <td>5</td>\n",
       "    </tr>\n",
       "    <tr>\n",
       "      <th>5</th>\n",
       "      <td>2016-02-05 06:17:00</td>\n",
       "      <td>capital</td>\n",
       "      <td>bopper</td>\n",
       "      <td>30</td>\n",
       "    </tr>\n",
       "  </tbody>\n",
       "</table>\n",
       "</div>"
      ],
      "text/plain": [
       "             timestamp         name    kind  units\n",
       "id                                                \n",
       "1  2016-01-05 13:34:00  thermometer  fizzer     83\n",
       "2  2016-01-09 22:29:00      diaries  bopper     93\n",
       "3  2016-01-19 10:31:00       sounds  buzzer     95\n",
       "4  2016-01-27 14:25:00   submarines  buzzer      5\n",
       "5  2016-02-05 06:17:00      capital  bopper     30"
      ]
     },
     "execution_count": 9,
     "metadata": {},
     "output_type": "execute_result"
    }
   ],
   "source": [
    "session.query(Widget).frame(index_col=\"id\").head()"
   ]
  },
  {
   "cell_type": "markdown",
   "metadata": {},
   "source": [
    "## Writing DataFrame to Session\n",
    "\n",
    "Use the `add_dataframe()` method of the `RedPanda` session to place `DataFrame` rows into the session as models:"
   ]
  },
  {
   "cell_type": "code",
   "execution_count": 10,
   "metadata": {
    "collapsed": false
   },
   "outputs": [
    {
     "data": {
      "text/html": [
       "<div>\n",
       "<table border=\"1\" class=\"dataframe\">\n",
       "  <thead>\n",
       "    <tr style=\"text-align: right;\">\n",
       "      <th></th>\n",
       "      <th>kind</th>\n",
       "      <th>name</th>\n",
       "      <th>timestamp</th>\n",
       "      <th>units</th>\n",
       "    </tr>\n",
       "  </thead>\n",
       "  <tbody>\n",
       "    <tr>\n",
       "      <th>0</th>\n",
       "      <td>newkind</td>\n",
       "      <td>newname</td>\n",
       "      <td>2016-07-16 11:47:09.228669</td>\n",
       "      <td>1000</td>\n",
       "    </tr>\n",
       "  </tbody>\n",
       "</table>\n",
       "</div>"
      ],
      "text/plain": [
       "      kind     name                  timestamp  units\n",
       "0  newkind  newname 2016-07-16 11:47:09.228669   1000"
      ]
     },
     "execution_count": 10,
     "metadata": {},
     "output_type": "execute_result"
    }
   ],
   "source": [
    "from datetime import datetime\n",
    "dfdata = {\n",
    "    \"kind\": \"newkind\", \n",
    "    \"name\": \"newname\", \n",
    "    \"units\": 1000, \n",
    "    \"timestamp\": datetime.utcnow()}\n",
    "addme = pandas.DataFrame(dfdata, index=[0])\n",
    "addme"
   ]
  },
  {
   "cell_type": "code",
   "execution_count": 11,
   "metadata": {
    "collapsed": false
   },
   "outputs": [
    {
     "data": {
      "text/html": [
       "<div>\n",
       "<table border=\"1\" class=\"dataframe\">\n",
       "  <thead>\n",
       "    <tr style=\"text-align: right;\">\n",
       "      <th></th>\n",
       "      <th>id</th>\n",
       "      <th>name</th>\n",
       "      <th>kind</th>\n",
       "      <th>units</th>\n",
       "    </tr>\n",
       "    <tr>\n",
       "      <th>timestamp</th>\n",
       "      <th></th>\n",
       "      <th></th>\n",
       "      <th></th>\n",
       "      <th></th>\n",
       "    </tr>\n",
       "  </thead>\n",
       "  <tbody>\n",
       "    <tr>\n",
       "      <th>2016-07-16 11:47:09.228669</th>\n",
       "      <td>76</td>\n",
       "      <td>newname</td>\n",
       "      <td>newkind</td>\n",
       "      <td>1000</td>\n",
       "    </tr>\n",
       "  </tbody>\n",
       "</table>\n",
       "</div>"
      ],
      "text/plain": [
       "                            id     name     kind  units\n",
       "timestamp                                              \n",
       "2016-07-16 11:47:09.228669  76  newname  newkind   1000"
      ]
     },
     "execution_count": 11,
     "metadata": {},
     "output_type": "execute_result"
    }
   ],
   "source": [
    "session.add_dataframe(Widget, addme)\n",
    "session.commit()\n",
    "session.query(Widget).filter(Widget.kind==\"newkind\").frame()"
   ]
  },
  {
   "cell_type": "code",
   "execution_count": null,
   "metadata": {
    "collapsed": true
   },
   "outputs": [],
   "source": []
  }
 ],
 "metadata": {
  "kernelspec": {
   "display_name": "Python 3",
   "language": "python",
   "name": "python3"
  },
  "language_info": {
   "codemirror_mode": {
    "name": "ipython",
    "version": 3
   },
   "file_extension": ".py",
   "mimetype": "text/x-python",
   "name": "python",
   "nbconvert_exporter": "python",
   "pygments_lexer": "ipython3",
   "version": "3.5.1"
  }
 },
 "nbformat": 4,
 "nbformat_minor": 0
}
