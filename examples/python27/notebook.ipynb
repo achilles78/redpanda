{
 "cells": [
  {
   "cell_type": "markdown",
   "metadata": {},
   "source": [
    "# RedPanda Examples"
   ]
  },
  {
   "cell_type": "code",
   "execution_count": 1,
   "metadata": {
    "collapsed": false
   },
   "outputs": [
    {
     "name": "stdout",
     "output_type": "stream",
     "text": [
      "RedPanda version: 0.2.4\n",
      "Python version: 2.7.12 (default, Jun 29 2016, 08:57:23) \n",
      "[GCC 5.3.0]\n"
     ]
    }
   ],
   "source": [
    "import pandas, redpanda, sqlalchemy, sys\n",
    "print \"RedPanda version:\", redpanda.__version__\n",
    "print \"Python version:\", sys.version"
   ]
  },
  {
   "cell_type": "markdown",
   "metadata": {},
   "source": [
    "## Opening a session\n",
    "\n",
    "Open a `RedPanda` session to begin exploring data:"
   ]
  },
  {
   "cell_type": "code",
   "execution_count": 2,
   "metadata": {
    "collapsed": true
   },
   "outputs": [],
   "source": [
    "engine = redpanda.create_engine(\"sqlite://\")\n",
    "session = redpanda.Session(bind=engine)"
   ]
  },
  {
   "cell_type": "markdown",
   "metadata": {},
   "source": [
    "Note that this is syntactic sugar for SQLAlchemy calls:"
   ]
  },
  {
   "cell_type": "code",
   "execution_count": 3,
   "metadata": {
    "collapsed": false
   },
   "outputs": [],
   "source": [
    "engine = sqlalchemy.create_engine(\"sqlite://\")\n",
    "sessionmaker = sqlalchemy.orm.sessionmaker(class_=redpanda.orm.Session,\n",
    "                                           query_cls=redpanda.orm.Query)\n",
    "session = sessionmaker(bind=engine)"
   ]
  },
  {
   "cell_type": "markdown",
   "metadata": {},
   "source": [
    "## Creating An Example Model\n",
    "\n",
    "Define your models using the declarative API. `RedPanda` defines one such model in the `example` module:"
   ]
  },
  {
   "cell_type": "code",
   "execution_count": 4,
   "metadata": {
    "collapsed": false
   },
   "outputs": [],
   "source": [
    "import sqlalchemy.ext.declarative\n",
    "Base = sqlalchemy.ext.declarative.declarative_base()\n",
    "class Widget(Base):\n",
    "    id        = sqlalchemy.Column(sqlalchemy.Integer, primary_key=True)\n",
    "    timestamp = sqlalchemy.Column(sqlalchemy.DateTime)\n",
    "    name      = sqlalchemy.Column(sqlalchemy.String)\n",
    "    kind      = sqlalchemy.Column(sqlalchemy.String)\n",
    "    units     = sqlalchemy.Column(sqlalchemy.Integer)\n",
    "\n",
    "    __read_sql__  = {\"index_col\": [\"timestamp\"], \"parse_dates\": [\"timestamp\"]}\n",
    "    __tablename__ = \"widgets\""
   ]
  },
  {
   "cell_type": "markdown",
   "metadata": {},
   "source": [
    "Defining the class attribute `__read_sql__` will configure default arguments passed to `pandas.read_sql()`. \n",
    "\n",
    "In this case we are configuring the `widgets` table to use the `timestamp` column as an index and that we wish for `pandas` to parse this column as a `datetime` object."
   ]
  },
  {
   "cell_type": "code",
   "execution_count": 5,
   "metadata": {
    "collapsed": false
   },
   "outputs": [],
   "source": [
    "from redpanda.example import create_widgets\n",
    "create_widgets(session)"
   ]
  },
  {
   "cell_type": "markdown",
   "metadata": {},
   "source": [
    "## Querying Data\n",
    "\n",
    "Use the `frame()` method of a query to return the results as a `DataFrame`:"
   ]
  },
  {
   "cell_type": "code",
   "execution_count": 6,
   "metadata": {
    "collapsed": false
   },
   "outputs": [
    {
     "data": {
      "text/html": [
       "<div>\n",
       "<table border=\"1\" class=\"dataframe\">\n",
       "  <thead>\n",
       "    <tr style=\"text-align: right;\">\n",
       "      <th></th>\n",
       "      <th>id</th>\n",
       "      <th>name</th>\n",
       "      <th>kind</th>\n",
       "      <th>units</th>\n",
       "    </tr>\n",
       "    <tr>\n",
       "      <th>timestamp</th>\n",
       "      <th></th>\n",
       "      <th></th>\n",
       "      <th></th>\n",
       "      <th></th>\n",
       "    </tr>\n",
       "  </thead>\n",
       "  <tbody>\n",
       "    <tr>\n",
       "      <th>2016-01-02 07:14:00</th>\n",
       "      <td>1</td>\n",
       "      <td>mats</td>\n",
       "      <td>buzzer</td>\n",
       "      <td>37</td>\n",
       "    </tr>\n",
       "    <tr>\n",
       "      <th>2016-01-03 11:21:00</th>\n",
       "      <td>2</td>\n",
       "      <td>cord</td>\n",
       "      <td>buzzer</td>\n",
       "      <td>91</td>\n",
       "    </tr>\n",
       "    <tr>\n",
       "      <th>2016-01-05 20:54:00</th>\n",
       "      <td>3</td>\n",
       "      <td>retirement</td>\n",
       "      <td>buzzer</td>\n",
       "      <td>5</td>\n",
       "    </tr>\n",
       "    <tr>\n",
       "      <th>2016-01-25 12:30:00</th>\n",
       "      <td>4</td>\n",
       "      <td>conflict</td>\n",
       "      <td>bopper</td>\n",
       "      <td>99</td>\n",
       "    </tr>\n",
       "    <tr>\n",
       "      <th>2016-01-27 11:03:00</th>\n",
       "      <td>5</td>\n",
       "      <td>laboratories</td>\n",
       "      <td>bopper</td>\n",
       "      <td>32</td>\n",
       "    </tr>\n",
       "  </tbody>\n",
       "</table>\n",
       "</div>"
      ],
      "text/plain": [
       "                     id          name    kind  units\n",
       "timestamp                                           \n",
       "2016-01-02 07:14:00   1          mats  buzzer     37\n",
       "2016-01-03 11:21:00   2          cord  buzzer     91\n",
       "2016-01-05 20:54:00   3    retirement  buzzer      5\n",
       "2016-01-25 12:30:00   4      conflict  bopper     99\n",
       "2016-01-27 11:03:00   5  laboratories  bopper     32"
      ]
     },
     "execution_count": 6,
     "metadata": {},
     "output_type": "execute_result"
    }
   ],
   "source": [
    "session.query(Widget).frame().head()"
   ]
  },
  {
   "cell_type": "markdown",
   "metadata": {},
   "source": [
    "### Querying with Filters\n",
    "\n",
    "Use SQLAlchemy filters to refine the query:"
   ]
  },
  {
   "cell_type": "code",
   "execution_count": 7,
   "metadata": {
    "collapsed": false
   },
   "outputs": [
    {
     "data": {
      "text/html": [
       "<div>\n",
       "<table border=\"1\" class=\"dataframe\">\n",
       "  <thead>\n",
       "    <tr style=\"text-align: right;\">\n",
       "      <th></th>\n",
       "      <th>id</th>\n",
       "      <th>name</th>\n",
       "      <th>kind</th>\n",
       "      <th>units</th>\n",
       "    </tr>\n",
       "    <tr>\n",
       "      <th>timestamp</th>\n",
       "      <th></th>\n",
       "      <th></th>\n",
       "      <th></th>\n",
       "      <th></th>\n",
       "    </tr>\n",
       "  </thead>\n",
       "  <tbody>\n",
       "    <tr>\n",
       "      <th>2016-11-07 23:15:00</th>\n",
       "      <td>59</td>\n",
       "      <td>wagon</td>\n",
       "      <td>buzzer</td>\n",
       "      <td>17</td>\n",
       "    </tr>\n",
       "    <tr>\n",
       "      <th>2016-11-10 09:11:00</th>\n",
       "      <td>60</td>\n",
       "      <td>shovel</td>\n",
       "      <td>fizzer</td>\n",
       "      <td>46</td>\n",
       "    </tr>\n",
       "    <tr>\n",
       "      <th>2016-11-10 19:03:00</th>\n",
       "      <td>61</td>\n",
       "      <td>takeoffs</td>\n",
       "      <td>bopper</td>\n",
       "      <td>79</td>\n",
       "    </tr>\n",
       "    <tr>\n",
       "      <th>2016-11-18 14:20:00</th>\n",
       "      <td>62</td>\n",
       "      <td>matters</td>\n",
       "      <td>fizzer</td>\n",
       "      <td>15</td>\n",
       "    </tr>\n",
       "    <tr>\n",
       "      <th>2016-11-23 08:54:00</th>\n",
       "      <td>63</td>\n",
       "      <td>results</td>\n",
       "      <td>bopper</td>\n",
       "      <td>24</td>\n",
       "    </tr>\n",
       "    <tr>\n",
       "      <th>2016-11-23 23:43:00</th>\n",
       "      <td>64</td>\n",
       "      <td>reaches</td>\n",
       "      <td>bopper</td>\n",
       "      <td>14</td>\n",
       "    </tr>\n",
       "    <tr>\n",
       "      <th>2016-11-28 15:50:00</th>\n",
       "      <td>65</td>\n",
       "      <td>glass</td>\n",
       "      <td>buzzer</td>\n",
       "      <td>5</td>\n",
       "    </tr>\n",
       "  </tbody>\n",
       "</table>\n",
       "</div>"
      ],
      "text/plain": [
       "                     id      name    kind  units\n",
       "timestamp                                       \n",
       "2016-11-07 23:15:00  59     wagon  buzzer     17\n",
       "2016-11-10 09:11:00  60    shovel  fizzer     46\n",
       "2016-11-10 19:03:00  61  takeoffs  bopper     79\n",
       "2016-11-18 14:20:00  62   matters  fizzer     15\n",
       "2016-11-23 08:54:00  63   results  bopper     24\n",
       "2016-11-23 23:43:00  64   reaches  bopper     14\n",
       "2016-11-28 15:50:00  65     glass  buzzer      5"
      ]
     },
     "execution_count": 7,
     "metadata": {},
     "output_type": "execute_result"
    }
   ],
   "source": [
    "session.query(Widget).filter(Widget.timestamp.between(\"2016-11-01\", \"2016-11-30\")).frame()"
   ]
  },
  {
   "cell_type": "markdown",
   "metadata": {},
   "source": [
    "### Overriding Defaults\n",
    "\n",
    "Pass arguments to `pandas.read_sql()` into the `frame()` method:"
   ]
  },
  {
   "cell_type": "code",
   "execution_count": 8,
   "metadata": {
    "collapsed": false
   },
   "outputs": [
    {
     "data": {
      "text/html": [
       "<div>\n",
       "<table border=\"1\" class=\"dataframe\">\n",
       "  <thead>\n",
       "    <tr style=\"text-align: right;\">\n",
       "      <th></th>\n",
       "      <th>timestamp</th>\n",
       "      <th>name</th>\n",
       "      <th>kind</th>\n",
       "      <th>units</th>\n",
       "    </tr>\n",
       "    <tr>\n",
       "      <th>id</th>\n",
       "      <th></th>\n",
       "      <th></th>\n",
       "      <th></th>\n",
       "      <th></th>\n",
       "    </tr>\n",
       "  </thead>\n",
       "  <tbody>\n",
       "    <tr>\n",
       "      <th>1</th>\n",
       "      <td>2016-01-02 07:14:00</td>\n",
       "      <td>mats</td>\n",
       "      <td>buzzer</td>\n",
       "      <td>37</td>\n",
       "    </tr>\n",
       "    <tr>\n",
       "      <th>2</th>\n",
       "      <td>2016-01-03 11:21:00</td>\n",
       "      <td>cord</td>\n",
       "      <td>buzzer</td>\n",
       "      <td>91</td>\n",
       "    </tr>\n",
       "    <tr>\n",
       "      <th>3</th>\n",
       "      <td>2016-01-05 20:54:00</td>\n",
       "      <td>retirement</td>\n",
       "      <td>buzzer</td>\n",
       "      <td>5</td>\n",
       "    </tr>\n",
       "    <tr>\n",
       "      <th>4</th>\n",
       "      <td>2016-01-25 12:30:00</td>\n",
       "      <td>conflict</td>\n",
       "      <td>bopper</td>\n",
       "      <td>99</td>\n",
       "    </tr>\n",
       "    <tr>\n",
       "      <th>5</th>\n",
       "      <td>2016-01-27 11:03:00</td>\n",
       "      <td>laboratories</td>\n",
       "      <td>bopper</td>\n",
       "      <td>32</td>\n",
       "    </tr>\n",
       "  </tbody>\n",
       "</table>\n",
       "</div>"
      ],
      "text/plain": [
       "             timestamp          name    kind  units\n",
       "id                                                 \n",
       "1  2016-01-02 07:14:00          mats  buzzer     37\n",
       "2  2016-01-03 11:21:00          cord  buzzer     91\n",
       "3  2016-01-05 20:54:00    retirement  buzzer      5\n",
       "4  2016-01-25 12:30:00      conflict  bopper     99\n",
       "5  2016-01-27 11:03:00  laboratories  bopper     32"
      ]
     },
     "execution_count": 8,
     "metadata": {},
     "output_type": "execute_result"
    }
   ],
   "source": [
    "session.query(Widget).frame(index_col=\"id\").head()"
   ]
  },
  {
   "cell_type": "markdown",
   "metadata": {},
   "source": [
    "## Writing DataFrame to Session\n",
    "\n",
    "Use the `add_dataframe()` method of the `RedPanda` session to place `DataFrame` rows into the session as models:"
   ]
  },
  {
   "cell_type": "code",
   "execution_count": 9,
   "metadata": {
    "collapsed": false
   },
   "outputs": [
    {
     "data": {
      "text/html": [
       "<div>\n",
       "<table border=\"1\" class=\"dataframe\">\n",
       "  <thead>\n",
       "    <tr style=\"text-align: right;\">\n",
       "      <th></th>\n",
       "      <th>kind</th>\n",
       "      <th>name</th>\n",
       "      <th>timestamp</th>\n",
       "      <th>units</th>\n",
       "    </tr>\n",
       "  </thead>\n",
       "  <tbody>\n",
       "    <tr>\n",
       "      <th>0</th>\n",
       "      <td>newkind</td>\n",
       "      <td>newname</td>\n",
       "      <td>2016-07-15 10:12:46.135608</td>\n",
       "      <td>1000</td>\n",
       "    </tr>\n",
       "  </tbody>\n",
       "</table>\n",
       "</div>"
      ],
      "text/plain": [
       "      kind     name                  timestamp  units\n",
       "0  newkind  newname 2016-07-15 10:12:46.135608   1000"
      ]
     },
     "execution_count": 9,
     "metadata": {},
     "output_type": "execute_result"
    }
   ],
   "source": [
    "from datetime import datetime\n",
    "dfdata = {\n",
    "    \"kind\": \"newkind\", \n",
    "    \"name\": \"newname\", \n",
    "    \"units\": 1000, \n",
    "    \"timestamp\": datetime.utcnow()}\n",
    "addme = pandas.DataFrame(dfdata, index=[0])\n",
    "addme"
   ]
  },
  {
   "cell_type": "code",
   "execution_count": 10,
   "metadata": {
    "collapsed": false
   },
   "outputs": [
    {
     "data": {
      "text/html": [
       "<div>\n",
       "<table border=\"1\" class=\"dataframe\">\n",
       "  <thead>\n",
       "    <tr style=\"text-align: right;\">\n",
       "      <th></th>\n",
       "      <th>id</th>\n",
       "      <th>name</th>\n",
       "      <th>kind</th>\n",
       "      <th>units</th>\n",
       "    </tr>\n",
       "    <tr>\n",
       "      <th>timestamp</th>\n",
       "      <th></th>\n",
       "      <th></th>\n",
       "      <th></th>\n",
       "      <th></th>\n",
       "    </tr>\n",
       "  </thead>\n",
       "  <tbody>\n",
       "    <tr>\n",
       "      <th>2016-07-15 10:12:46.135608</th>\n",
       "      <td>76</td>\n",
       "      <td>newname</td>\n",
       "      <td>newkind</td>\n",
       "      <td>1000</td>\n",
       "    </tr>\n",
       "  </tbody>\n",
       "</table>\n",
       "</div>"
      ],
      "text/plain": [
       "                            id     name     kind  units\n",
       "timestamp                                              \n",
       "2016-07-15 10:12:46.135608  76  newname  newkind   1000"
      ]
     },
     "execution_count": 10,
     "metadata": {},
     "output_type": "execute_result"
    }
   ],
   "source": [
    "session.add_dataframe(Widget, addme)\n",
    "session.commit()\n",
    "session.query(Widget).filter(Widget.kind==\"newkind\").frame()"
   ]
  },
  {
   "cell_type": "code",
   "execution_count": null,
   "metadata": {
    "collapsed": true
   },
   "outputs": [],
   "source": []
  }
 ],
 "metadata": {
  "kernelspec": {
   "display_name": "Python 2",
   "language": "python",
   "name": "python2"
  },
  "language_info": {
   "codemirror_mode": {
    "name": "ipython",
    "version": 2
   },
   "file_extension": ".py",
   "mimetype": "text/x-python",
   "name": "python",
   "nbconvert_exporter": "python",
   "pygments_lexer": "ipython2",
   "version": "2.7.12"
  }
 },
 "nbformat": 4,
 "nbformat_minor": 0
}
