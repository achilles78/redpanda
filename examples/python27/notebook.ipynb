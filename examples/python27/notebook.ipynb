{
 "cells": [
  {
   "cell_type": "markdown",
   "metadata": {},
   "source": [
    "# RedPanda Examples"
   ]
  },
  {
   "cell_type": "code",
   "execution_count": 1,
   "metadata": {
    "collapsed": false
   },
   "outputs": [
    {
     "name": "stdout",
     "output_type": "stream",
     "text": [
      "RedPanda version: 0.2.3\n",
      "Python version: 2.7.12 (default, Jun 29 2016, 08:57:23) \n",
      "[GCC 5.3.0]\n"
     ]
    }
   ],
   "source": [
    "import pandas, redpanda, sqlalchemy, sys\n",
    "print \"RedPanda version:\", redpanda.__version__\n",
    "print \"Python version:\", sys.version"
   ]
  },
  {
   "cell_type": "markdown",
   "metadata": {},
   "source": [
    "## Opening a session\n",
    "\n",
    "Open a `RedPanda` session to begin exploring data:"
   ]
  },
  {
   "cell_type": "code",
   "execution_count": 2,
   "metadata": {
    "collapsed": true
   },
   "outputs": [],
   "source": [
    "engine = redpanda.create_engine(\"sqlite://\")\n",
    "session = redpanda.Session(bind=engine)"
   ]
  },
  {
   "cell_type": "markdown",
   "metadata": {},
   "source": [
    "Note that this is syntactic sugar for SQLAlchemy calls:"
   ]
  },
  {
   "cell_type": "code",
   "execution_count": 3,
   "metadata": {
    "collapsed": false
   },
   "outputs": [],
   "source": [
    "engine = sqlalchemy.create_engine(\"sqlite://\")\n",
    "sessionmaker = sqlalchemy.orm.sessionmaker(class_=redpanda.orm.Session,\n",
    "                                           query_cls=redpanda.orm.Query)\n",
    "session = sessionmaker(bind=engine)"
   ]
  },
  {
   "cell_type": "markdown",
   "metadata": {},
   "source": [
    "## Creating An Example Model\n",
    "\n",
    "Define your models using the declarative API. `RedPanda` defines one such model in the `example` module:"
   ]
  },
  {
   "cell_type": "code",
   "execution_count": 4,
   "metadata": {
    "collapsed": false
   },
   "outputs": [],
   "source": [
    "import sqlalchemy.ext.declarative\n",
    "Base = sqlalchemy.ext.declarative.declarative_base()\n",
    "class Widget(Base):\n",
    "    id        = sqlalchemy.Column(sqlalchemy.Integer, primary_key=True)\n",
    "    timestamp = sqlalchemy.Column(sqlalchemy.DateTime)\n",
    "    name      = sqlalchemy.Column(sqlalchemy.String)\n",
    "    kind      = sqlalchemy.Column(sqlalchemy.String)\n",
    "    units     = sqlalchemy.Column(sqlalchemy.Integer)\n",
    "\n",
    "    __read_sql__  = {\"index_col\": [\"timestamp\"], \"parse_dates\": [\"timestamp\"]}\n",
    "    __tablename__ = \"widgets\""
   ]
  },
  {
   "cell_type": "markdown",
   "metadata": {},
   "source": [
    "Defining the class attribute `__read_sql__` will configure default arguments passed to `pandas.read_sql()`. \n",
    "\n",
    "In this case we are configuring the `widgets` table to use the `timestamp` column as an index and that we wish for `pandas` to parse this column as a `datetime` object."
   ]
  },
  {
   "cell_type": "code",
   "execution_count": 5,
   "metadata": {
    "collapsed": false
   },
   "outputs": [],
   "source": [
    "from redpanda.example import create_widgets\n",
    "create_widgets(session)"
   ]
  },
  {
   "cell_type": "markdown",
   "metadata": {},
   "source": [
    "## Querying Data\n",
    "\n",
    "Use the `frame()` method of a query to return the results as a `DataFrame`:"
   ]
  },
  {
   "cell_type": "code",
   "execution_count": 6,
   "metadata": {
    "collapsed": false
   },
   "outputs": [
    {
     "data": {
      "text/html": [
       "<div>\n",
       "<table border=\"1\" class=\"dataframe\">\n",
       "  <thead>\n",
       "    <tr style=\"text-align: right;\">\n",
       "      <th></th>\n",
       "      <th>id</th>\n",
       "      <th>name</th>\n",
       "      <th>kind</th>\n",
       "      <th>units</th>\n",
       "    </tr>\n",
       "    <tr>\n",
       "      <th>timestamp</th>\n",
       "      <th></th>\n",
       "      <th></th>\n",
       "      <th></th>\n",
       "      <th></th>\n",
       "    </tr>\n",
       "  </thead>\n",
       "  <tbody>\n",
       "    <tr>\n",
       "      <th>2016-01-02 04:24:00</th>\n",
       "      <td>1</td>\n",
       "      <td>approach</td>\n",
       "      <td>bopper</td>\n",
       "      <td>93</td>\n",
       "    </tr>\n",
       "    <tr>\n",
       "      <th>2016-01-05 20:23:00</th>\n",
       "      <td>2</td>\n",
       "      <td>blots</td>\n",
       "      <td>bopper</td>\n",
       "      <td>70</td>\n",
       "    </tr>\n",
       "    <tr>\n",
       "      <th>2016-01-07 23:31:00</th>\n",
       "      <td>3</td>\n",
       "      <td>victim</td>\n",
       "      <td>buzzer</td>\n",
       "      <td>53</td>\n",
       "    </tr>\n",
       "    <tr>\n",
       "      <th>2016-01-16 18:52:00</th>\n",
       "      <td>4</td>\n",
       "      <td>hammer</td>\n",
       "      <td>bopper</td>\n",
       "      <td>82</td>\n",
       "    </tr>\n",
       "    <tr>\n",
       "      <th>2016-01-20 17:08:00</th>\n",
       "      <td>5</td>\n",
       "      <td>fares</td>\n",
       "      <td>bopper</td>\n",
       "      <td>87</td>\n",
       "    </tr>\n",
       "  </tbody>\n",
       "</table>\n",
       "</div>"
      ],
      "text/plain": [
       "                     id      name    kind  units\n",
       "timestamp                                       \n",
       "2016-01-02 04:24:00   1  approach  bopper     93\n",
       "2016-01-05 20:23:00   2     blots  bopper     70\n",
       "2016-01-07 23:31:00   3    victim  buzzer     53\n",
       "2016-01-16 18:52:00   4    hammer  bopper     82\n",
       "2016-01-20 17:08:00   5     fares  bopper     87"
      ]
     },
     "execution_count": 6,
     "metadata": {},
     "output_type": "execute_result"
    }
   ],
   "source": [
    "session.query(Widget).frame().head()"
   ]
  },
  {
   "cell_type": "markdown",
   "metadata": {},
   "source": [
    "### Querying with Filters\n",
    "\n",
    "Use SQLAlchemy filters to refine the query:"
   ]
  },
  {
   "cell_type": "code",
   "execution_count": 7,
   "metadata": {
    "collapsed": false
   },
   "outputs": [
    {
     "data": {
      "text/html": [
       "<div>\n",
       "<table border=\"1\" class=\"dataframe\">\n",
       "  <thead>\n",
       "    <tr style=\"text-align: right;\">\n",
       "      <th></th>\n",
       "      <th>id</th>\n",
       "      <th>name</th>\n",
       "      <th>kind</th>\n",
       "      <th>units</th>\n",
       "    </tr>\n",
       "    <tr>\n",
       "      <th>timestamp</th>\n",
       "      <th></th>\n",
       "      <th></th>\n",
       "      <th></th>\n",
       "      <th></th>\n",
       "    </tr>\n",
       "  </thead>\n",
       "  <tbody>\n",
       "    <tr>\n",
       "      <th>2016-11-06 14:53:00</th>\n",
       "      <td>61</td>\n",
       "      <td>interfaces</td>\n",
       "      <td>fizzer</td>\n",
       "      <td>37</td>\n",
       "    </tr>\n",
       "    <tr>\n",
       "      <th>2016-11-12 02:39:00</th>\n",
       "      <td>62</td>\n",
       "      <td>stakes</td>\n",
       "      <td>bopper</td>\n",
       "      <td>40</td>\n",
       "    </tr>\n",
       "    <tr>\n",
       "      <th>2016-11-13 09:07:00</th>\n",
       "      <td>63</td>\n",
       "      <td>hums</td>\n",
       "      <td>buzzer</td>\n",
       "      <td>63</td>\n",
       "    </tr>\n",
       "    <tr>\n",
       "      <th>2016-11-17 04:16:00</th>\n",
       "      <td>64</td>\n",
       "      <td>residue</td>\n",
       "      <td>bopper</td>\n",
       "      <td>39</td>\n",
       "    </tr>\n",
       "    <tr>\n",
       "      <th>2016-11-24 12:41:00</th>\n",
       "      <td>65</td>\n",
       "      <td>tasks</td>\n",
       "      <td>bopper</td>\n",
       "      <td>17</td>\n",
       "    </tr>\n",
       "  </tbody>\n",
       "</table>\n",
       "</div>"
      ],
      "text/plain": [
       "                     id        name    kind  units\n",
       "timestamp                                         \n",
       "2016-11-06 14:53:00  61  interfaces  fizzer     37\n",
       "2016-11-12 02:39:00  62      stakes  bopper     40\n",
       "2016-11-13 09:07:00  63        hums  buzzer     63\n",
       "2016-11-17 04:16:00  64     residue  bopper     39\n",
       "2016-11-24 12:41:00  65       tasks  bopper     17"
      ]
     },
     "execution_count": 7,
     "metadata": {},
     "output_type": "execute_result"
    }
   ],
   "source": [
    "session.query(Widget).filter(Widget.timestamp.between(\"2016-11-01\", \"2016-11-30\")).frame()"
   ]
  },
  {
   "cell_type": "markdown",
   "metadata": {},
   "source": [
    "### Overriding Defaults\n",
    "\n",
    "Pass arguments to `pandas.read_sql()` into the `frame()` method:"
   ]
  },
  {
   "cell_type": "code",
   "execution_count": 8,
   "metadata": {
    "collapsed": false
   },
   "outputs": [
    {
     "data": {
      "text/html": [
       "<div>\n",
       "<table border=\"1\" class=\"dataframe\">\n",
       "  <thead>\n",
       "    <tr style=\"text-align: right;\">\n",
       "      <th></th>\n",
       "      <th>timestamp</th>\n",
       "      <th>name</th>\n",
       "      <th>kind</th>\n",
       "      <th>units</th>\n",
       "    </tr>\n",
       "    <tr>\n",
       "      <th>id</th>\n",
       "      <th></th>\n",
       "      <th></th>\n",
       "      <th></th>\n",
       "      <th></th>\n",
       "    </tr>\n",
       "  </thead>\n",
       "  <tbody>\n",
       "    <tr>\n",
       "      <th>1</th>\n",
       "      <td>2016-01-02 04:24:00</td>\n",
       "      <td>approach</td>\n",
       "      <td>bopper</td>\n",
       "      <td>93</td>\n",
       "    </tr>\n",
       "    <tr>\n",
       "      <th>2</th>\n",
       "      <td>2016-01-05 20:23:00</td>\n",
       "      <td>blots</td>\n",
       "      <td>bopper</td>\n",
       "      <td>70</td>\n",
       "    </tr>\n",
       "    <tr>\n",
       "      <th>3</th>\n",
       "      <td>2016-01-07 23:31:00</td>\n",
       "      <td>victim</td>\n",
       "      <td>buzzer</td>\n",
       "      <td>53</td>\n",
       "    </tr>\n",
       "    <tr>\n",
       "      <th>4</th>\n",
       "      <td>2016-01-16 18:52:00</td>\n",
       "      <td>hammer</td>\n",
       "      <td>bopper</td>\n",
       "      <td>82</td>\n",
       "    </tr>\n",
       "    <tr>\n",
       "      <th>5</th>\n",
       "      <td>2016-01-20 17:08:00</td>\n",
       "      <td>fares</td>\n",
       "      <td>bopper</td>\n",
       "      <td>87</td>\n",
       "    </tr>\n",
       "  </tbody>\n",
       "</table>\n",
       "</div>"
      ],
      "text/plain": [
       "             timestamp      name    kind  units\n",
       "id                                             \n",
       "1  2016-01-02 04:24:00  approach  bopper     93\n",
       "2  2016-01-05 20:23:00     blots  bopper     70\n",
       "3  2016-01-07 23:31:00    victim  buzzer     53\n",
       "4  2016-01-16 18:52:00    hammer  bopper     82\n",
       "5  2016-01-20 17:08:00     fares  bopper     87"
      ]
     },
     "execution_count": 8,
     "metadata": {},
     "output_type": "execute_result"
    }
   ],
   "source": [
    "session.query(Widget).frame(index_col=\"id\").head()"
   ]
  },
  {
   "cell_type": "markdown",
   "metadata": {},
   "source": [
    "## Writing DataFrame to Session\n",
    "\n",
    "Use the `add_dataframe()` method of the `RedPanda` session to place `DataFrame` rows into the session as models:"
   ]
  },
  {
   "cell_type": "code",
   "execution_count": 9,
   "metadata": {
    "collapsed": false
   },
   "outputs": [
    {
     "data": {
      "text/html": [
       "<div>\n",
       "<table border=\"1\" class=\"dataframe\">\n",
       "  <thead>\n",
       "    <tr style=\"text-align: right;\">\n",
       "      <th></th>\n",
       "      <th>kind</th>\n",
       "      <th>name</th>\n",
       "      <th>timestamp</th>\n",
       "      <th>units</th>\n",
       "    </tr>\n",
       "  </thead>\n",
       "  <tbody>\n",
       "    <tr>\n",
       "      <th>0</th>\n",
       "      <td>newkind</td>\n",
       "      <td>newname</td>\n",
       "      <td>2016-07-13 16:34:19.376921</td>\n",
       "      <td>1000</td>\n",
       "    </tr>\n",
       "  </tbody>\n",
       "</table>\n",
       "</div>"
      ],
      "text/plain": [
       "      kind     name                  timestamp  units\n",
       "0  newkind  newname 2016-07-13 16:34:19.376921   1000"
      ]
     },
     "execution_count": 9,
     "metadata": {},
     "output_type": "execute_result"
    }
   ],
   "source": [
    "from datetime import datetime\n",
    "dfdata = {\n",
    "    \"kind\": \"newkind\", \n",
    "    \"name\": \"newname\", \n",
    "    \"units\": 1000, \n",
    "    \"timestamp\": datetime.utcnow()}\n",
    "addme = pandas.DataFrame(dfdata, index=[0])\n",
    "addme"
   ]
  },
  {
   "cell_type": "code",
   "execution_count": 10,
   "metadata": {
    "collapsed": false
   },
   "outputs": [
    {
     "data": {
      "text/html": [
       "<div>\n",
       "<table border=\"1\" class=\"dataframe\">\n",
       "  <thead>\n",
       "    <tr style=\"text-align: right;\">\n",
       "      <th></th>\n",
       "      <th>id</th>\n",
       "      <th>name</th>\n",
       "      <th>kind</th>\n",
       "      <th>units</th>\n",
       "    </tr>\n",
       "    <tr>\n",
       "      <th>timestamp</th>\n",
       "      <th></th>\n",
       "      <th></th>\n",
       "      <th></th>\n",
       "      <th></th>\n",
       "    </tr>\n",
       "  </thead>\n",
       "  <tbody>\n",
       "    <tr>\n",
       "      <th>2016-07-13 16:34:19.376921</th>\n",
       "      <td>76</td>\n",
       "      <td>newname</td>\n",
       "      <td>newkind</td>\n",
       "      <td>1000</td>\n",
       "    </tr>\n",
       "  </tbody>\n",
       "</table>\n",
       "</div>"
      ],
      "text/plain": [
       "                            id     name     kind  units\n",
       "timestamp                                              \n",
       "2016-07-13 16:34:19.376921  76  newname  newkind   1000"
      ]
     },
     "execution_count": 10,
     "metadata": {},
     "output_type": "execute_result"
    }
   ],
   "source": [
    "session.add_dataframe(Widget, addme)\n",
    "session.commit()\n",
    "session.query(Widget).filter(Widget.kind==\"newkind\").frame()"
   ]
  },
  {
   "cell_type": "code",
   "execution_count": null,
   "metadata": {
    "collapsed": true
   },
   "outputs": [],
   "source": []
  }
 ],
 "metadata": {
  "kernelspec": {
   "display_name": "Python 2",
   "language": "python",
   "name": "python2"
  },
  "language_info": {
   "codemirror_mode": {
    "name": "ipython",
    "version": 2
   },
   "file_extension": ".py",
   "mimetype": "text/x-python",
   "name": "python",
   "nbconvert_exporter": "python",
   "pygments_lexer": "ipython2",
   "version": "2.7.12"
  }
 },
 "nbformat": 4,
 "nbformat_minor": 0
}
